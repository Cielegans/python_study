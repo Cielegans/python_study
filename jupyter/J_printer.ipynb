{
 "cells": [
  {
   "cell_type": "code",
   "execution_count": null,
   "id": "d262959a",
   "metadata": {},
   "outputs": [
    {
     "name": "stdout",
     "output_type": "stream",
     "text": [
      "4.140000000000001\n",
      "<class 'int'>\n",
      "<class 'float'>\n",
      "현재 세율은 0.35 100 %입니다. 650.0\n"
     ]
    }
   ],
   "source": [
    "pi = 3.14\n",
    "a = 1\n",
    "print(pi+1)\n",
    "print(type(a))\n",
    "print(type(pi))\n",
    "TAX_RATE = 0.35\n",
    "tax = 1000 * TAX_RATE\n",
    "income = 1000 - tax\n",
    "\n",
    "print(\"현재 세율은\", TAX_RATE, \"100 %입니다.\", income)\n"
   ]
  },
  {
   "cell_type": "code",
   "execution_count": 16,
   "id": "d48a5a85",
   "metadata": {},
   "outputs": [
    {
     "name": "stdout",
     "output_type": "stream",
     "text": [
      "\"안녕하세요\"\n"
     ]
    }
   ],
   "source": [
    "print('\"안녕하세요\"')"
   ]
  },
  {
   "cell_type": "code",
   "execution_count": 1,
   "id": "fc17aace",
   "metadata": {},
   "outputs": [
    {
     "name": "stdout",
     "output_type": "stream",
     "text": [
      "10 20 30\n"
     ]
    }
   ],
   "source": [
    "a = 10\n",
    "b = 20\n",
    "c = 30\n",
    "print(a, b, c)"
   ]
  }
 ],
 "metadata": {
  "kernelspec": {
   "display_name": ".venv",
   "language": "python",
   "name": "python3"
  },
  "language_info": {
   "codemirror_mode": {
    "name": "ipython",
    "version": 3
   },
   "file_extension": ".py",
   "mimetype": "text/x-python",
   "name": "python",
   "nbconvert_exporter": "python",
   "pygments_lexer": "ipython3",
   "version": "3.12.5"
  }
 },
 "nbformat": 4,
 "nbformat_minor": 5
}
